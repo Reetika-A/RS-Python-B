{
  "nbformat": 4,
  "nbformat_minor": 0,
  "metadata": {
    "colab": {
      "provenance": []
    },
    "kernelspec": {
      "name": "python3",
      "display_name": "Python 3"
    },
    "language_info": {
      "name": "python"
    }
  },
  "cells": [
    {
      "cell_type": "markdown",
      "source": [
        "Problem 10: We need to transpose a 2D integer array matrix."
      ],
      "metadata": {
        "id": "fOtyyF31_PE5"
      }
    },
    {
      "cell_type": "code",
      "source": [
        "def transpose_matrix(matrix):\n",
        "    transposed = []\n",
        "    for i in range(len(matrix[0])):\n",
        "        new_row = []\n",
        "        for row in matrix:\n",
        "            new_row.append(row[i])\n",
        "        transposed.append(new_row)\n",
        "    return transposed\n",
        "\n",
        "\n",
        "matrix_input = [\n",
        "    [2, 9, 0],\n",
        "    [7, 2, 0],\n",
        "    [0, 4, 1]\n",
        "]\n",
        "print(transpose_matrix(matrix_input))\n",
        "\n"
      ],
      "metadata": {
        "colab": {
          "base_uri": "https://localhost:8080/"
        },
        "id": "oWPev5kZ_U3x",
        "outputId": "6307b4bd-a006-4c1e-bffc-47270b8488b4"
      },
      "execution_count": 1,
      "outputs": [
        {
          "output_type": "stream",
          "name": "stdout",
          "text": [
            "[[2, 7, 0], [9, 2, 4], [0, 0, 1]]\n"
          ]
        }
      ]
    }
  ]
}