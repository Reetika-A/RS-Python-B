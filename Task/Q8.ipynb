{
  "nbformat": 4,
  "nbformat_minor": 0,
  "metadata": {
    "colab": {
      "provenance": []
    },
    "kernelspec": {
      "name": "python3",
      "display_name": "Python 3"
    },
    "language_info": {
      "name": "python"
    }
  },
  "cells": [
    {
      "cell_type": "markdown",
      "source": [
        "Problem 8: We need to count the frequency of each element in a list and return it as a dictionary."
      ],
      "metadata": {
        "id": "Wx6GsI5k-tWE"
      }
    },
    {
      "cell_type": "code",
      "source": [
        "def frequency_count(input_list):\n",
        "    frequency = {}\n",
        "    for element in input_list:\n",
        "        if element in frequency:\n",
        "            frequency[element] += 1\n",
        "        else:\n",
        "            frequency[element] = 1\n",
        "    return frequency\n",
        "\n",
        "\n",
        "input_list = [1, 2, 2, 3, 3, 3]\n",
        "print(frequency_count(input_list))\n"
      ],
      "metadata": {
        "id": "u6xn0fsr-yUe"
      },
      "execution_count": null,
      "outputs": []
    }
  ]
}