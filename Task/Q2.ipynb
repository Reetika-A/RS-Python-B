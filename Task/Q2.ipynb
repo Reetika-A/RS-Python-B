{
  "nbformat": 4,
  "nbformat_minor": 0,
  "metadata": {
    "colab": {
      "provenance": []
    },
    "kernelspec": {
      "name": "python3",
      "display_name": "Python 3"
    },
    "language_info": {
      "name": "python"
    }
  },
  "cells": [
    {
      "cell_type": "markdown",
      "source": [
        "Problem 2: We need to count the frequency of each character in a string, considering upper and lower case letters separately, and ignoring spaces."
      ],
      "metadata": {
        "id": "QLiWt8by7F1d"
      }
    },
    {
      "cell_type": "code",
      "execution_count": null,
      "metadata": {
        "colab": {
          "base_uri": "https://localhost:8080/"
        },
        "id": "lot-iyh0lZFs",
        "outputId": "790f7a73-cc9f-463a-cd0a-96e595f1c49d"
      },
      "outputs": [
        {
          "output_type": "stream",
          "name": "stdout",
          "text": [
            "The character  T , appears : 1  number of times.\n",
            "The character  a , appears : 1  number of times.\n",
            "The character  b , appears : 1  number of times.\n",
            "The character  c , appears : 1  number of times.\n",
            "The character  d , appears : 2  number of times.\n",
            "The character  e , appears : 4  number of times.\n",
            "The character  f , appears : 1  number of times.\n",
            "The character  g , appears : 1  number of times.\n",
            "The character  h , appears : 2  number of times.\n",
            "The character  i , appears : 1  number of times.\n",
            "The character  j , appears : 1  number of times.\n",
            "The character  k , appears : 1  number of times.\n",
            "The character  l , appears : 1  number of times.\n",
            "The character  m , appears : 1  number of times.\n",
            "The character  n , appears : 1  number of times.\n",
            "The character  o , appears : 4  number of times.\n",
            "The character  p , appears : 1  number of times.\n",
            "The character  q , appears : 1  number of times.\n",
            "The character  r , appears : 2  number of times.\n",
            "The character  t , appears : 1  number of times.\n",
            "The character  u , appears : 2  number of times.\n",
            "The character  v , appears : 1  number of times.\n",
            "The character  w , appears : 1  number of times.\n",
            "The character  x , appears : 1  number of times.\n",
            "The character  y , appears : 1  number of times.\n",
            "The character  z , appears : 1  number of times.\n"
          ]
        }
      ],
      "source": [
        "def frequency_of_characters(s):\n",
        "    freq = {}\n",
        "    for char in s:\n",
        "        if char.isalpha():\n",
        "            if char in freq:\n",
        "                freq[char] += 1\n",
        "            else:\n",
        "                freq[char] = 1\n",
        "\n",
        "    sorted_chars = sorted(freq.keys())\n",
        "    for char in sorted_chars:\n",
        "        print(\"The character \", char ,\", appears :\", freq[char] ,\" number of times.\")\n",
        "\n",
        "input_str = \"The quick brown fox jumped over the lazy dog\"\n",
        "frequency_of_characters(input_str)"
      ]
    }
  ]
}