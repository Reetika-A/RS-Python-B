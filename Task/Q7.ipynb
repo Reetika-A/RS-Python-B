{
  "nbformat": 4,
  "nbformat_minor": 0,
  "metadata": {
    "colab": {
      "provenance": []
    },
    "kernelspec": {
      "name": "python3",
      "display_name": "Python 3"
    },
    "language_info": {
      "name": "python"
    }
  },
  "cells": [
    {
      "cell_type": "markdown",
      "source": [
        "Problem 7: For each product, we need to find the minimum prime factor of its MRP."
      ],
      "metadata": {
        "id": "xp5I8Z40-ktO"
      }
    },
    {
      "cell_type": "code",
      "source": [
        "def smallest_prime_factor(n):\n",
        "    if n <= 1:\n",
        "        return n\n",
        "    for i in range(2, n + 1):\n",
        "        if n % i == 0:\n",
        "            return i\n",
        "    return n\n",
        "\n",
        "def amount_roy_pays(N, prices):\n",
        "    results = []\n",
        "    for price in prices:\n",
        "        min_prime = smallest_prime_factor(price)\n",
        "        roy_pays = price - min_prime\n",
        "        results.append(roy_pays)\n",
        "    return results\n",
        "\n",
        "\n",
        "N = 2    # Array Size\n",
        "prices = [5, 10]      # Value of prices!\n",
        "print(amount_roy_pays(N, prices))\n"
      ],
      "metadata": {
        "colab": {
          "base_uri": "https://localhost:8080/"
        },
        "id": "jd8Qoge_-pSC",
        "outputId": "8fda6619-fcff-4b84-9e36-63e607c0f10e"
      },
      "execution_count": 1,
      "outputs": [
        {
          "output_type": "stream",
          "name": "stdout",
          "text": [
            "[0, 8]\n"
          ]
        }
      ]
    }
  ]
}