{
  "nbformat": 4,
  "nbformat_minor": 0,
  "metadata": {
    "colab": {
      "provenance": []
    },
    "kernelspec": {
      "name": "python3",
      "display_name": "Python 3"
    },
    "language_info": {
      "name": "python"
    }
  },
  "cells": [
    {
      "cell_type": "markdown",
      "source": [
        "Q1. Given two strings s and t, return true if t is an anagram of s, and false otherwise"
      ],
      "metadata": {
        "id": "SU_J1Ndf0ym7"
      }
    },
    {
      "cell_type": "code",
      "execution_count": 7,
      "metadata": {
        "colab": {
          "base_uri": "https://localhost:8080/"
        },
        "id": "jGOGuVeij9uL",
        "outputId": "a98ce750-2f91-4ce7-ec04-1550c9f91495"
      },
      "outputs": [
        {
          "output_type": "stream",
          "name": "stdout",
          "text": [
            "True\n"
          ]
        }
      ],
      "source": [
        "def is_it_anagram(a, b):\n",
        "    return sorted(a) == sorted(b)\n",
        "\n",
        "a1 = \"sharp\"\n",
        "b1 = \"harps\"\n",
        "print(is_it_anagram(a1, b1))\n"
      ]
    }
  ]
}