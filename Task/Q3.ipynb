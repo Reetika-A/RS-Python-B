{
  "nbformat": 4,
  "nbformat_minor": 0,
  "metadata": {
    "colab": {
      "provenance": []
    },
    "kernelspec": {
      "name": "python3",
      "display_name": "Python 3"
    },
    "language_info": {
      "name": "python"
    }
  },
  "cells": [
    {
      "cell_type": "markdown",
      "source": [
        "Problem 3: To increment a large integer represented as an array of digits, we can process the array from the end to handle the carry."
      ],
      "metadata": {
        "id": "ilf-SW998Rhi"
      }
    },
    {
      "cell_type": "code",
      "source": [
        "def increment_number(digits):\n",
        "\n",
        "    reversed_digits = digits[::-1]\n",
        "\n",
        "    length = len(reversed_digits)\n",
        "    for i in range(length):\n",
        "        if reversed_digits[i] < 9:\n",
        "            reversed_digits[i] += 1\n",
        "            break\n",
        "        else:\n",
        "            reversed_digits[i] = 0\n",
        "\n",
        "\n",
        "    digits = reversed_digits[::-1]\n",
        "\n",
        "    return digits\n",
        "\n",
        "\n",
        "digits_input = [1, 4, 3, 1, 9]\n",
        "print(increment_number(digits_input))\n",
        "\n"
      ],
      "metadata": {
        "colab": {
          "base_uri": "https://localhost:8080/"
        },
        "id": "-DABAC498TsN",
        "outputId": "2615b9d0-f08c-40c5-f0dc-3e542dd0d503"
      },
      "execution_count": 5,
      "outputs": [
        {
          "output_type": "stream",
          "name": "stdout",
          "text": [
            "[1, 4, 3, 2, 0]\n"
          ]
        }
      ]
    }
  ]
}