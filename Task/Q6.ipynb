{
  "nbformat": 4,
  "nbformat_minor": 0,
  "metadata": {
    "colab": {
      "provenance": []
    },
    "kernelspec": {
      "name": "python3",
      "display_name": "Python 3"
    },
    "language_info": {
      "name": "python"
    }
  },
  "cells": [
    {
      "cell_type": "markdown",
      "source": [
        "Problem 6: We need to find the prime numbers in an array and compute the absolute difference between the smallest and largest ones."
      ],
      "metadata": {
        "id": "-z36PJSu-YXl"
      }
    },
    {
      "cell_type": "code",
      "source": [
        "def is_prime(n):\n",
        "    if n <= 1:\n",
        "        return False\n",
        "    for i in range(2, n):\n",
        "        if n % i == 0:\n",
        "            return False\n",
        "    return True\n",
        "\n",
        "def prime_difference(N, A):\n",
        "    primes = []\n",
        "    for i in range(N):\n",
        "        if is_prime(A[i]):\n",
        "            primes.append(A[i])\n",
        "\n",
        "    if len(primes) == 0:\n",
        "        return 1\n",
        "\n",
        "    smallest_prime = min(primes)\n",
        "    largest_prime = max(primes)\n",
        "    return largest_prime - smallest_prime\n",
        "\n",
        "A = [1, 2, 3, 4, 5, 41]       # Array\n",
        "N = 6      # Array Size\n",
        "print(prime_difference(N, A))\n",
        "\n"
      ],
      "metadata": {
        "colab": {
          "base_uri": "https://localhost:8080/"
        },
        "id": "8zjDJhLc-eQJ",
        "outputId": "77c16a39-e2f1-48a1-d902-7c8993d510a6"
      },
      "execution_count": 1,
      "outputs": [
        {
          "output_type": "stream",
          "name": "stdout",
          "text": [
            "39\n"
          ]
        }
      ]
    }
  ]
}